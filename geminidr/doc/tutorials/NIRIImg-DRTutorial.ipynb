{
 "cells": [
  {
   "cell_type": "markdown",
   "metadata": {},
   "source": [
    "# NIRI Imaging - Data Reduction Tutorial"
   ]
  },
  {
   "cell_type": "markdown",
   "metadata": {},
   "source": [
    "Found a good, complete dataset.  GN-2015B-Q-31-118.  Small dither and offset to sky because there's a galaxy in the bottom right corner.  It has the darks for the science, no darks for the standard.  It has the standard.  Lamp-on, lamp-off flats.   I'll have to dig for short darks.   H-band.   Certainly worth a try.  It's pretty too.   It's a supernova observation.\n",
    "\n",
    "* Science:  N20160102S0270-279  (270-274 on target, 275-279 on sky)\n",
    "* Science Darks: N20160102S0423-432   (20 sec, like the Science)\n",
    "\n",
    "* Flats, lamp-on: N20160102S0373-382\n",
    "* Flats, lamp-off: N20160102S0363-372\n",
    "\n",
    "* Standard: N20160102S0395-399\n",
    "\n",
    "* Short darks: N20160103S0463-472   (To find them, set a date range around date of science observations, Instrument NIRI, Obs.Type set to DARK, and exposure time set 1 second.)"
   ]
  },
  {
   "cell_type": "code",
   "execution_count": null,
   "metadata": {},
   "outputs": [],
   "source": []
  }
 ],
 "metadata": {
  "kernelspec": {
   "display_name": "Python 3",
   "language": "python",
   "name": "python3"
  },
  "language_info": {
   "codemirror_mode": {
    "name": "ipython",
    "version": 3
   },
   "file_extension": ".py",
   "mimetype": "text/x-python",
   "name": "python",
   "nbconvert_exporter": "python",
   "pygments_lexer": "ipython3",
   "version": "3.6.3"
  }
 },
 "nbformat": 4,
 "nbformat_minor": 1
}
