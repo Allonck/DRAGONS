{
 "cells": [
  {
   "cell_type": "markdown",
   "metadata": {},
   "source": [
    "# NIRI Imaging - Data Reduction Tutorial"
   ]
  },
  {
   "cell_type": "markdown",
   "metadata": {},
   "source": [
    "Found a good, complete dataset.  GN-2015B-Q-31-118.  Small dither and offset to sky because there's a galaxy in the bottom right corner.  It has the darks for the science, no darks for the standard.  It has the standard.  Lamp-on, lamp-off flats.   I'll have to dig for short darks.   H-band.   Certainly worth a try.  It's pretty too.   It's a supernova observation.\n",
    "\n",
    "* Science:  N20160102S0270-279  (270-274 on target, 275-279 on sky)\n",
    "* Science Darks: N20160102S0423-432   (20 sec, like the Science)\n",
    "\n",
    "* Flats, lamp-on: N20160102S0373-382\n",
    "* Flats, lamp-off: N20160102S0363-372\n",
    "\n",
    "* Standard: N20160102S0295-299\n",
    "\n",
    "* Short darks: N20160103S0463-472   (To find them, set a date range around date of science observations, Instrument NIRI, Obs.Type set to DARK, and exposure time set 1 second.)"
   ]
  },
  {
   "cell_type": "markdown",
   "metadata": {},
   "source": [
    "## Create the various file lists"
   ]
  },
  {
   "cell_type": "markdown",
   "metadata": {},
   "source": [
    "DRAGONS has a convenience tool, `typewalk`, that can identify data based on their tags.  It is quite useful when it comes to creating file lists that will serve as inputs to `reduce`.\n",
    "\n",
    "It is not quite the perfect tool though.  We will be creating a tool better suited to creating `reduce` input lists but it is not available yet.  So, this step will require an editor and some fiddling.  (We're not happy about it either.)  \n"
   ]
  },
  {
   "cell_type": "markdown",
   "metadata": {},
   "source": [
    "<hr>\n",
    "\n",
    "** Darks **: We have darks for the science target, with an exposure time equal to that of the science target observations.  We also have 1-second darks that are used for creating the bad pixel mask (BPM).   Darks are not obtained for the standard star observations.\n",
    "\n",
    "** Flats **: There are lamp-on and lamp-off flats.  They are used to create a master flat field that will be applied to standard star and the science target.  They are also used to create the BPM.\n",
    "\n",
    "** Objects **: We have standard star observations and science target observations."
   ]
  },
  {
   "cell_type": "code",
   "execution_count": null,
   "metadata": {
    "collapsed": true
   },
   "outputs": [],
   "source": [
    "%%bash\n",
    "\n",
    "# cd to the playground directory\n",
    "cd /data/workspace/niri_tutorial/playground\n",
    "pwd\n"
   ]
  },
  {
   "cell_type": "code",
   "execution_count": null,
   "metadata": {
    "collapsed": true
   },
   "outputs": [],
   "source": [
    "%%bash\n",
    "cd /data/workspace/niri_tutorial/playground\n",
    "\n",
    "\n",
    "# Create the dark frames lists. \n",
    "typewalk --tags=DARK -d ../playdata -o alldarks.lis\n",
    "\n",
    "# 'typewalk' cannot differentiate based on the exposure time.\n",
    "# Action: Edit manually to produce darks1s.lis and darks10s.lis\n",
    "cp alldarks.lis darks1s.lis\n",
    "cp alldarks.lis darks20s.lis  \n",
    "# vi darks1s.lis    # N20160103S0463-472\n",
    "# vi darks20s.lis   # N20160102S0423-432"
   ]
  },
  {
   "cell_type": "code",
   "execution_count": null,
   "metadata": {
    "collapsed": true
   },
   "outputs": [],
   "source": [
    "%%bash\n",
    "cd /data/workspace/niri_tutorial/playground\n",
    "\n",
    "# Create the flat field list\n",
    "typewalk --tags=FLAT -d ../playdata -o allflats.lis\n",
    "\n",
    "# Create the standard and target list\n",
    "typewalk --tags=IMAGE --xtags=FLAT -d ../playdata -o allobjects.lis\n",
    "\n",
    "# 'typewalk' cannot differentiate based on object name.\n",
    "# Action: Edit manually to produce stdstar.lis and target.lis\n",
    "cp allobjects.lis stdstar.lis\n",
    "cp allobjects.lis target.lis  \n",
    "# vi stdstar.lis    # N20160102S0295-299\n",
    "# vi target.lis     # N20160102S0270-279\n"
   ]
  },
  {
   "cell_type": "markdown",
   "metadata": {},
   "source": [
    "## Science reduction using the Calibration Manager"
   ]
  },
  {
   "cell_type": "markdown",
   "metadata": {},
   "source": [
    "### Setup the calibration manager"
   ]
  },
  {
   "cell_type": "markdown",
   "metadata": {},
   "source": [
    "    [calibs]\n",
    "    standalone = True\n",
    "    database_dir = /data/workspace/niri_tutorial/playground"
   ]
  },
  {
   "cell_type": "code",
   "execution_count": null,
   "metadata": {
    "collapsed": true
   },
   "outputs": [],
   "source": [
    "%%bash\n",
    "\n",
    "# Configure the calibration manager.\n",
    "# vi ~/.geminidr/rsys.cfg\n",
    "\n",
    "# Initialize the calibration database\n",
    "caldb init\n"
   ]
  },
  {
   "cell_type": "markdown",
   "metadata": {},
   "source": [
    "### Reduce data"
   ]
  },
  {
   "cell_type": "code",
   "execution_count": null,
   "metadata": {
    "collapsed": true
   },
   "outputs": [],
   "source": [
    "%%bash\n",
    "cd /data/workspace/niri_tutorial/playground\n",
    "\n",
    "# -----------------------------------------------\n",
    "# Create the master dark for the science target\n",
    "reduce @darks20s.lis\n",
    "\n",
    "# Add the dark to the calibration manager.\n",
    "caldb add N20160102S0423_dark.fits\n",
    "\n",
    "\n",
    "# -----------------------------------------------\n",
    "# Create the user Bad Pixel Mask (BPM)\n",
    "reduce @allflats.lis @darks1s.lis -r makeProcessedBPM\n",
    "\n",
    "\n",
    "# -----------------------------------------------\n",
    "# Create the master flat field\n",
    "reduce @allflats.lis -p addDQ:user_bpm=N20160102S0373_bpm.fits\n",
    "\n",
    "# Add the flat to the calibration manager.\n",
    "caldb add N20160102S0373_flat.fits\n",
    "\n",
    "\n",
    "# -----------------------------------------------\n",
    "# Reduce the standard star\n",
    "reduce @stdstar.lis -p addDQ:user_bpm=N20160102S0373_bpm.fits darkCorrect:do_dark=False\n",
    "\n",
    "\n",
    "# -----------------------------------------------\n",
    "# Reduce the science target\n",
    "#   We need to set the scaling of the sky to False because the target \n",
    "#   fills the field of view and does not represent a reasonable background.\n",
    "#   Scaling results in an oversubtraction of the sky frame.\n",
    "reduce @target.lis -p addDQ:user_bpm=N20160102S0373_bpm.fits skyCorrect:scale=False\n"
   ]
  },
  {
   "cell_type": "markdown",
   "metadata": {},
   "source": [
    "## Science reduction setting calibrations manually"
   ]
  },
  {
   "cell_type": "code",
   "execution_count": null,
   "metadata": {
    "collapsed": true
   },
   "outputs": [],
   "source": [
    "%%bash\n",
    "\n",
    "#Create the master dark for the science target\n",
    "#Create the user Bad Pixel Mask (BPM)\n",
    "#Create the master flat field\n",
    "#Reduce the standard star\n",
    "reduce @stdstar.lis -p addDQ:user_bpm=N20180106S0681_bpm.fits --user_cal processed_flat:N20180106S0681_flat.fits\n",
    "\n",
    "\n",
    "#Reduce the science target"
   ]
  }
 ],
 "metadata": {
  "kernelspec": {
   "display_name": "Python 2",
   "language": "python",
   "name": "python2"
  },
  "language_info": {
   "codemirror_mode": {
    "name": "ipython",
    "version": 2
   },
   "file_extension": ".py",
   "mimetype": "text/x-python",
   "name": "python",
   "nbconvert_exporter": "python",
   "pygments_lexer": "ipython2",
   "version": "2.7.13"
  }
 },
 "nbformat": 4,
 "nbformat_minor": 1
}
